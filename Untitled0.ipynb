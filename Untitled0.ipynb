{
 "cells": [
  {
   "cell_type": "markdown",
   "metadata": {},
   "source": [
    "1) Напишите программу, которая решает линейное уравнение: программа предлагает\n",
    "пользователю описать уравнение и выводит на экран значение корня"
   ]
  },
  {
   "cell_type": "code",
   "execution_count": 3,
   "metadata": {
    "collapsed": false
   },
   "outputs": [
    {
     "name": "stdout",
     "output_type": "stream",
     "text": [
      "input a, b, c for a*x+b=c: '1 2 3'\n"
     ]
    },
    {
     "data": {
      "text/plain": [
       "1.0"
      ]
     },
     "execution_count": 3,
     "metadata": {},
     "output_type": "execute_result"
    }
   ],
   "source": [
    "a, b, c = input('input a, b, c for a*x+b=c: ').split()\n",
    "a = float(a)\n",
    "b = float(b)\n",
    "c = float(c)\n",
    "\n",
    "def solve_linear(a,b,c):\n",
    "    res = (c - b) / a\n",
    "    return res\n",
    "\n",
    "solve_linear(a,b,c)"
   ]
  },
  {
   "cell_type": "markdown",
   "metadata": {},
   "source": [
    "--------------------\n",
    "\n",
    "2) Напишите программу, которая запрашивает у пользователя три числа и выводит на\n",
    "экран среднее арифметическое."
   ]
  },
  {
   "cell_type": "code",
   "execution_count": 4,
   "metadata": {
    "collapsed": false
   },
   "outputs": [
    {
     "name": "stdout",
     "output_type": "stream",
     "text": [
      "input a, b, c: '1 2 3.5'\n"
     ]
    },
    {
     "data": {
      "text/plain": [
       "2.1666666666666665"
      ]
     },
     "execution_count": 4,
     "metadata": {},
     "output_type": "execute_result"
    }
   ],
   "source": [
    "a, b, c = input('input a, b, c: ').split()\n",
    "a = float(a)\n",
    "b = float(b)\n",
    "c = float(c)\n",
    "\n",
    "def get_mean(a,b,c):\n",
    "    res = (a + b + c) / 3\n",
    "    return res\n",
    "\n",
    "get_mean(a,b,c)"
   ]
  },
  {
   "cell_type": "markdown",
   "metadata": {},
   "source": [
    "--------------------\n",
    "\n",
    "3) Напишите программу, которая рассчитывает сколько денег надо потратить\n",
    "работодателю, чтобы законным способом выплатить работнику сумму в X рублей?\n",
    "Программа запрашивает выплачиваемую сумму в X рублей и выводит на экран\n",
    "общие затраты работодателя. (НДФЛ – 13%; ФОТ – 30,2%)."
   ]
  },
  {
   "cell_type": "code",
   "execution_count": 10,
   "metadata": {
    "collapsed": false
   },
   "outputs": [
    {
     "name": "stdout",
     "output_type": "stream",
     "text": [
      "input X: '1000'\n"
     ]
    },
    {
     "data": {
      "text/plain": [
       "1432.0"
      ]
     },
     "execution_count": 10,
     "metadata": {},
     "output_type": "execute_result"
    }
   ],
   "source": [
    "X = input('input X: ')\n",
    "X = float(X)\n",
    "\n",
    "def get_salary(X):\n",
    "    res = X * (1 + 0.13 + 0.302)\n",
    "    return res\n",
    "\n",
    "get_salary(X)"
   ]
  },
  {
   "cell_type": "markdown",
   "metadata": {},
   "source": [
    "--------------------\n",
    "\n",
    "4) Напишите программу, которая проверяет число на четность и в случае четного\n",
    "числа сообщает пользователю, что число четно, в случае нечетного числа наоборот."
   ]
  },
  {
   "cell_type": "code",
   "execution_count": 12,
   "metadata": {
    "collapsed": false
   },
   "outputs": [
    {
     "name": "stdout",
     "output_type": "stream",
     "text": [
      "input X: '123'\n",
      "The number is odd\n"
     ]
    }
   ],
   "source": [
    "X = input('input X: ')\n",
    "X = int(X)\n",
    "\n",
    "def is_even(X):\n",
    "    if X % 2 == 0:\n",
    "        print 'The number is even'\n",
    "    else:\n",
    "        print 'The number is odd'\n",
    "\n",
    "is_even(X)"
   ]
  },
  {
   "cell_type": "markdown",
   "metadata": {},
   "source": [
    "--------------------\n",
    "\n",
    "5) Составим программу, которая напоминает пользователю, что такое квадратное\n",
    "уравнение, предлагает ввести ключевые значения, характеризующие уравнение, и\n",
    "выводит на экран решения уравнения. Если решения отсутствуют (в случае\n",
    "школьной математики), то программа об этом сообщает. Если решение одно,\n",
    "программа говорит, что решение одно."
   ]
  },
  {
   "cell_type": "code",
   "execution_count": 20,
   "metadata": {
    "collapsed": false
   },
   "outputs": [
    {
     "name": "stdout",
     "output_type": "stream",
     "text": [
      "input a,b,c for a*x^2 + b*x + c = 0: '1 3 2'\n",
      "Two roots: -2.0 -1.0\n"
     ]
    }
   ],
   "source": [
    "import math\n",
    "\n",
    "a, b, c = input('input a,b,c for a*x^2 + b*x + c = 0: ').split()\n",
    "a = float(a)\n",
    "b = float(b)\n",
    "c = float(c)\n",
    "\n",
    "def solve_quadratic(a,b,c):\n",
    "    D = b ** 2 - 4 * a * c\n",
    "    if D > 0:\n",
    "        root1 = (-b - math.sqrt(D)) / (2 * a)\n",
    "        root2 = (-b + math.sqrt(D)) / (2 * a)\n",
    "        print \"Two roots: \" + str(root1) + \" \" + str(root2)\n",
    "    elif D == 0:\n",
    "        root = -b / (2 * a)\n",
    "        print \"One root: \" + str(root)\n",
    "    else:\n",
    "        print \"There is no roots\"\n",
    "\n",
    "solve_quadratic(a,b,c)"
   ]
  },
  {
   "cell_type": "markdown",
   "metadata": {},
   "source": [
    "--------------------\n",
    "\n",
    "6) Напишите программу, которая выводит все нечетные числа от a до b. Числа a и b\n",
    "задает пользователь."
   ]
  },
  {
   "cell_type": "code",
   "execution_count": 22,
   "metadata": {
    "collapsed": false
   },
   "outputs": [
    {
     "name": "stdout",
     "output_type": "stream",
     "text": [
      "input a,b: '1 10'\n"
     ]
    },
    {
     "data": {
      "text/plain": [
       "[1, 3, 5, 7, 9]"
      ]
     },
     "execution_count": 22,
     "metadata": {},
     "output_type": "execute_result"
    }
   ],
   "source": [
    "a, b = input('input a,b: ').split()\n",
    "a = int(a)\n",
    "b = int(b)\n",
    "\n",
    "def get_all_odds(a,b):\n",
    "    res = []\n",
    "    for x in range(a, b + 1):\n",
    "        if x % 2 == 1:\n",
    "            res.append(x)\n",
    "    return res\n",
    "    \n",
    "get_all_odds(a,b)"
   ]
  },
  {
   "cell_type": "markdown",
   "metadata": {},
   "source": [
    "--------------------\n",
    "\n",
    "7) Даны два целых числа a и b. Необходимо посчитать сумму всех целых чисел между\n",
    "ними, включая сами a и b."
   ]
  },
  {
   "cell_type": "code",
   "execution_count": 47,
   "metadata": {
    "collapsed": false
   },
   "outputs": [
    {
     "name": "stdout",
     "output_type": "stream",
     "text": [
      "input a,b: '1 6'\n"
     ]
    },
    {
     "data": {
      "text/plain": [
       "21"
      ]
     },
     "execution_count": 47,
     "metadata": {},
     "output_type": "execute_result"
    }
   ],
   "source": [
    "a, b = input('input a,b: ').split()\n",
    "a = int(a)\n",
    "b = int(b)\n",
    "\n",
    "def get_sum_a_b(a,b):\n",
    "    res = []\n",
    "    for x in range(a, b + 1):\n",
    "        res.append(x)\n",
    "    sum_res = sum(res)\n",
    "    return sum_res\n",
    "\n",
    "def get_sum_a_b_smart(a,b):\n",
    "    sum_res = (b - a + 1) * (a + b) / 2\n",
    "    return sum_res\n",
    "    \n",
    "get_sum_a_b_smart(a,b)"
   ]
  },
  {
   "cell_type": "markdown",
   "metadata": {},
   "source": [
    "--------------------\n",
    "\n",
    "8) Напишем программу, которая выводит на экран четыре результата произведения\n",
    "двух произвольных целых чисел, заданных пользователем. После этого\n",
    "модифицируем программу так, что если пользователь хочет узнать результат\n",
    "произведения двух нулей, то программа прекращает свою работу.\n"
   ]
  },
  {
   "cell_type": "code",
   "execution_count": 29,
   "metadata": {
    "collapsed": false
   },
   "outputs": [
    {
     "name": "stdout",
     "output_type": "stream",
     "text": [
      "input a,b: '1 4'\n",
      "4\n",
      "input a,b: '2 3'\n",
      "6\n",
      "input a,b: '0 0'\n"
     ]
    }
   ],
   "source": [
    "def get_prod():\n",
    "    for i in range(4):\n",
    "        a, b = input('input a,b: ').split()\n",
    "        a = int(a)\n",
    "        b = int(b)\n",
    "        if a == 0 and b == 0:\n",
    "            break\n",
    "        else:\n",
    "            print a * b\n",
    "\n",
    "get_prod()"
   ]
  },
  {
   "cell_type": "markdown",
   "metadata": {},
   "source": [
    "--------------------\n",
    "\n",
    "9) Напишем программу, которая выводит на экран квадрат из звездочек. На стороне\n",
    "квадрата должно быть n звездочек. Число n задает пользователь."
   ]
  },
  {
   "cell_type": "code",
   "execution_count": 30,
   "metadata": {
    "collapsed": false
   },
   "outputs": [
    {
     "name": "stdout",
     "output_type": "stream",
     "text": [
      "input n: '5'\n",
      "*****\n",
      "*****\n",
      "*****\n",
      "*****\n",
      "*****\n"
     ]
    }
   ],
   "source": [
    "n = input('input n: ')\n",
    "n = int(n)\n",
    "\n",
    "def print_square(n):\n",
    "    res = '*' * n\n",
    "    for i in range(n):\n",
    "        print res\n",
    "    \n",
    "print_square(n)"
   ]
  },
  {
   "cell_type": "markdown",
   "metadata": {},
   "source": [
    "--------------------\n",
    "\n",
    "10) Напишите программу, которая из последовательности целых чисел от a до b\n",
    "включительно определяет среднее арифметическое из чисел, которые делятся на\n",
    "три без остатка."
   ]
  },
  {
   "cell_type": "code",
   "execution_count": 33,
   "metadata": {
    "collapsed": false
   },
   "outputs": [
    {
     "name": "stdout",
     "output_type": "stream",
     "text": [
      "input a,b: '3 8'\n"
     ]
    },
    {
     "data": {
      "text/plain": [
       "4.5"
      ]
     },
     "execution_count": 33,
     "metadata": {},
     "output_type": "execute_result"
    }
   ],
   "source": [
    "a, b = input('input a,b: ').split()\n",
    "a = int(a)\n",
    "b = int(b)\n",
    "        \n",
    "def get_mean3(a,b):\n",
    "    res = []\n",
    "    for x in range(a,b+1):\n",
    "        if x % 3 == 0:\n",
    "            res.append(x)\n",
    "    if len(res) == 0:\n",
    "        return 0\n",
    "    else:\n",
    "        mean = float(sum(res)) / len(res)\n",
    "        return mean\n",
    "\n",
    "get_mean3(a,b)"
   ]
  },
  {
   "cell_type": "markdown",
   "metadata": {},
   "source": [
    "--------------------\n",
    "\n",
    "11) Есть строка, которая включает в себя множество символов, в том числе и символ s.\n",
    "Необходимо написать программу, которая определяет, сколько раз в строке\n",
    "встречается символ s (не важно – строчная или прописная буква). Если этот символ\n",
    "не встречается, программы выводит на экран сообщение об этом."
   ]
  },
  {
   "cell_type": "code",
   "execution_count": 34,
   "metadata": {
    "collapsed": false
   },
   "outputs": [
    {
     "name": "stdout",
     "output_type": "stream",
     "text": [
      "input line: 'kcifonlskacsdkjlncd'\n",
      "Number of occurence: 2\n"
     ]
    }
   ],
   "source": [
    "line = input('input line: ')\n",
    "\n",
    "        \n",
    "def get_num_s(line):\n",
    "    num = line.count('s')\n",
    "    if num == 0:\n",
    "        print 'No \\'s\\' in line'\n",
    "    else:\n",
    "        print 'Number of occurence: ' + str(num)\n",
    "\n",
    "get_num_s(line)"
   ]
  },
  {
   "cell_type": "markdown",
   "metadata": {},
   "source": [
    "--------------------\n",
    "\n",
    "12) Написать программу, которая в куске англоязычного текста определяет, какая буква\n",
    "встречается чаще всего."
   ]
  },
  {
   "cell_type": "code",
   "execution_count": 35,
   "metadata": {
    "collapsed": false
   },
   "outputs": [
    {
     "name": "stdout",
     "output_type": "stream",
     "text": [
      "input line: 'whfvkbjsliedfviu23l;dewrcd3'\n"
     ]
    },
    {
     "data": {
      "text/plain": [
       "{'2': 1,\n",
       " '3': 2,\n",
       " ';': 1,\n",
       " 'b': 1,\n",
       " 'c': 1,\n",
       " 'd': 3,\n",
       " 'e': 2,\n",
       " 'f': 2,\n",
       " 'h': 1,\n",
       " 'i': 2,\n",
       " 'j': 1,\n",
       " 'k': 1,\n",
       " 'l': 2,\n",
       " 'r': 1,\n",
       " 's': 1,\n",
       " 'u': 1,\n",
       " 'v': 2,\n",
       " 'w': 2}"
      ]
     },
     "execution_count": 35,
     "metadata": {},
     "output_type": "execute_result"
    }
   ],
   "source": [
    "line = input('input line: ')\n",
    "\n",
    "        \n",
    "def get_occureces(line):\n",
    "    letterdict = {}\n",
    "    for letter in line:\n",
    "        letterdict[letter] = letterdict.get(letter, 0) + 1\n",
    "    return letterdict\n",
    "\n",
    "get_occureces(line)"
   ]
  },
  {
   "cell_type": "markdown",
   "metadata": {},
   "source": [
    "--------------------\n",
    "\n",
    "13) Задача для самостоятельного решения: написать программу, которая определяет\n",
    "является ли слова или фраза целиком палиндромом. Палиндром - слово или фраза,\n",
    "которые одинаково читаются слева направо и справа налево. Пример такой фразы\n",
    "– «was it a car or a cat I saw?»"
   ]
  },
  {
   "cell_type": "code",
   "execution_count": 38,
   "metadata": {
    "collapsed": false
   },
   "outputs": [
    {
     "name": "stdout",
     "output_type": "stream",
     "text": [
      "input line: '12321'\n",
      "The line is a palindrome\n"
     ]
    }
   ],
   "source": [
    "line = input('input line: ')\n",
    "    \n",
    "def is_palindrome(line):\n",
    "    line_reverse = line[::-1]\n",
    "    is_pal = (line == line_reverse)\n",
    "    if is_pal:\n",
    "        print \"The line is a palindrome\"\n",
    "    else:\n",
    "        print \"The line isn't a palindrome\"\n",
    "\n",
    "is_palindrome(line)"
   ]
  },
  {
   "cell_type": "markdown",
   "metadata": {},
   "source": [
    "--------------------\n",
    "\n",
    "14) Напишите программу, на вход которой подается одна строка с целыми числами\n",
    "(числа вводятся с клавиатуры через пробел). Программа должна вывести сумму\n",
    "этих чисел."
   ]
  },
  {
   "cell_type": "code",
   "execution_count": 40,
   "metadata": {
    "collapsed": false
   },
   "outputs": [
    {
     "name": "stdout",
     "output_type": "stream",
     "text": [
      "input line: '1 2 3 4 5 6'\n"
     ]
    },
    {
     "data": {
      "text/plain": [
       "21"
      ]
     },
     "execution_count": 40,
     "metadata": {},
     "output_type": "execute_result"
    }
   ],
   "source": [
    "line = input('input line: ').split()\n",
    "  \n",
    "def get_sum(line):\n",
    "    int_list = [int(x) for x in line]\n",
    "    sum_elements = sum(int_list)\n",
    "    return sum_elements\n",
    "    \n",
    "get_sum(line)"
   ]
  },
  {
   "cell_type": "markdown",
   "metadata": {},
   "source": [
    "--------------------\n",
    "\n",
    "15) Напишите программу, на вход которой подаётся список чисел одной строкой.\n",
    "Программа должна для каждого элемента этого списка вывести сумму двух его\n",
    "соседей. Для элементов списка, являющихся крайними, одним из соседей считается\n",
    "элемент, находящий на противоположном конце этого списка. Например, если на\n",
    "вход подаётся список \"1 3 5 6 10\", то на выход ожидается список \"13 6 9 15 7\" (без\n",
    "кавычек). Если на вход пришло только одно число, надо вывести его же. Вывод\n",
    "должен содержать одну строку с числами нового списка, разделёнными пробелом."
   ]
  },
  {
   "cell_type": "code",
   "execution_count": 42,
   "metadata": {
    "collapsed": false
   },
   "outputs": [
    {
     "name": "stdout",
     "output_type": "stream",
     "text": [
      "input line: '1 3 5 6 10'\n"
     ]
    },
    {
     "data": {
      "text/plain": [
       "[13, 6, 9, 15, 7]"
      ]
     },
     "execution_count": 42,
     "metadata": {},
     "output_type": "execute_result"
    }
   ],
   "source": [
    "line = input('input line: ').split()\n",
    "  \n",
    "def get_neighbours_sum(line):\n",
    "    int_list = [int(x) for x in line]\n",
    "    res = []\n",
    "    for i in range(len(int_list)):\n",
    "        if i == 0:\n",
    "            left_neighbour_ind = -1\n",
    "        else:\n",
    "            left_neighbour_ind = i - 1\n",
    "        if i == len(int_list) - 1:\n",
    "            right_neighbour_ind = 0\n",
    "        else:\n",
    "            right_neighbour_ind = i + 1\n",
    "        neighbours_sum = int_list[left_neighbour_ind] + int_list[right_neighbour_ind]\n",
    "        res.append(neighbours_sum)\n",
    "    return res\n",
    "    \n",
    "get_neighbours_sum(line)"
   ]
  }
 ],
 "metadata": {
  "kernelspec": {
   "display_name": "Python 2",
   "language": "python",
   "name": "python2"
  },
  "language_info": {
   "codemirror_mode": {
    "name": "ipython",
    "version": 2
   },
   "file_extension": ".py",
   "mimetype": "text/x-python",
   "name": "python",
   "nbconvert_exporter": "python",
   "pygments_lexer": "ipython2",
   "version": "2.7.6"
  }
 },
 "nbformat": 4,
 "nbformat_minor": 0
}
