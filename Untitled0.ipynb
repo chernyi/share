{
 "cells": [
  {
   "cell_type": "markdown",
   "metadata": {},
   "source": [
    "1) Напишите программу, которая решает линейное уравнение: программа предлагает\n",
    "пользователю описать уравнение и выводит на экран значение корня"
   ]
  },
  {
   "cell_type": "code",
   "execution_count": 3,
   "metadata": {
    "collapsed": false
   },
   "outputs": [
    {
     "name": "stdout",
     "output_type": "stream",
     "text": [
      "input a, b, c for a*x+b=c: '1 2 3'\n"
     ]
    },
    {
     "data": {
      "text/plain": [
       "1.0"
      ]
     },
     "execution_count": 3,
     "metadata": {},
     "output_type": "execute_result"
    }
   ],
   "source": [
    "a, b, c = input('input a, b, c for a*x+b=c: ').split()\n",
    "a = float(a)\n",
    "b = float(b)\n",
    "c = float(c)\n",
    "\n",
    "def solve_linear(a,b,c):\n",
    "    res = (c - b) / a\n",
    "    return res\n",
    "\n",
    "solve_linear(a,b,c)"
   ]
  },
  {
   "cell_type": "markdown",
   "metadata": {},
   "source": [
    "--------------------\n",
    "\n",
    "2) Напишите программу, которая запрашивает у пользователя три числа и выводит на\n",
    "экран среднее арифметическое."
   ]
  },
  {
   "cell_type": "code",
   "execution_count": 4,
   "metadata": {
    "collapsed": false
   },
   "outputs": [
    {
     "name": "stdout",
     "output_type": "stream",
     "text": [
      "input a, b, c: '1 2 3.5'\n"
     ]
    },
    {
     "data": {
      "text/plain": [
       "2.1666666666666665"
      ]
     },
     "execution_count": 4,
     "metadata": {},
     "output_type": "execute_result"
    }
   ],
   "source": [
    "a, b, c = input('input a, b, c: ').split()\n",
    "a = float(a)\n",
    "b = float(b)\n",
    "c = float(c)\n",
    "\n",
    "def get_mean(a,b,c):\n",
    "    res = (a + b + c) / 3\n",
    "    return res\n",
    "\n",
    "get_mean(a,b,c)"
   ]
  },
  {
   "cell_type": "markdown",
   "metadata": {},
   "source": [
    "--------------------\n",
    "\n",
    "3) Напишите программу, которая рассчитывает сколько денег надо потратить\n",
    "работодателю, чтобы законным способом выплатить работнику сумму в X рублей?\n",
    "Программа запрашивает выплачиваемую сумму в X рублей и выводит на экран\n",
    "общие затраты работодателя. (НДФЛ – 13%; ФОТ – 30,2%)."
   ]
  },
  {
   "cell_type": "code",
   "execution_count": 10,
   "metadata": {
    "collapsed": false
   },
   "outputs": [
    {
     "name": "stdout",
     "output_type": "stream",
     "text": [
      "input X: '1000'\n"
     ]
    },
    {
     "data": {
      "text/plain": [
       "1432.0"
      ]
     },
     "execution_count": 10,
     "metadata": {},
     "output_type": "execute_result"
    }
   ],
   "source": [
    "X = input('input X: ')\n",
    "X = float(X)\n",
    "\n",
    "def get_salary(X):\n",
    "    res = X * (1 + 0.13 + 0.302)\n",
    "    return res\n",
    "\n",
    "get_salary(X)"
   ]
  },
  {
   "cell_type": "markdown",
   "metadata": {},
   "source": [
    "--------------------\n",
    "\n",
    "4) Напишите программу, которая проверяет число на четность и в случае четного\n",
    "числа сообщает пользователю, что число четно, в случае нечетного числа наоборот."
   ]
  },
  {
   "cell_type": "code",
   "execution_count": 12,
   "metadata": {
    "collapsed": false
   },
   "outputs": [
    {
     "name": "stdout",
     "output_type": "stream",
     "text": [
      "input X: '123'\n",
      "The number is odd\n"
     ]
    }
   ],
   "source": [
    "X = input('input X: ')\n",
    "X = int(X)\n",
    "\n",
    "def is_even(X):\n",
    "    if X % 2 == 0:\n",
    "        print 'The number is even'\n",
    "    else:\n",
    "        print 'The number is odd'\n",
    "\n",
    "is_even(X)"
   ]
  },
  {
   "cell_type": "markdown",
   "metadata": {},
   "source": [
    "--------------------\n",
    "\n",
    "5) Составим программу, которая напоминает пользователю, что такое квадратное\n",
    "уравнение, предлагает ввести ключевые значения, характеризующие уравнение, и\n",
    "выводит на экран решения уравнения. Если решения отсутствуют (в случае\n",
    "школьной математики), то программа об этом сообщает. Если решение одно,\n",
    "программа говорит, что решение одно."
   ]
  },
  {
   "cell_type": "code",
   "execution_count": 20,
   "metadata": {
    "collapsed": false
   },
   "outputs": [
    {
     "name": "stdout",
     "output_type": "stream",
     "text": [
      "input a,b,c for a*x^2 + b*x + c = 0: '1 3 2'\n",
      "Two roots: -2.0 -1.0\n"
     ]
    }
   ],
   "source": [
    "import math\n",
    "\n",
    "a, b, c = input('input a,b,c for a*x^2 + b*x + c = 0: ').split()\n",
    "a = float(a)\n",
    "b = float(b)\n",
    "c = float(c)\n",
    "\n",
    "def solve_quadratic(a,b,c):\n",
    "    D = b ** 2 - 4 * a * c\n",
    "    if D > 0:\n",
    "        root1 = (-b - math.sqrt(D)) / (2 * a)\n",
    "        root2 = (-b + math.sqrt(D)) / (2 * a)\n",
    "        print \"Two roots: \" + str(root1) + \" \" + str(root2)\n",
    "    elif D == 0:\n",
    "        root = -b / (2 * a)\n",
    "        print \"One root: \" + str(root)\n",
    "    else:\n",
    "        print \"There is no roots\"\n",
    "\n",
    "solve_quadratic(a,b,c)"
   ]
  },
  {
   "cell_type": "markdown",
   "metadata": {},
   "source": [
    "--------------------\n",
    "\n",
    "6) Напишите программу, которая выводит все нечетные числа от a до b. Числа a и b\n",
    "задает пользователь."
   ]
  },
  {
   "cell_type": "code",
   "execution_count": 22,
   "metadata": {
    "collapsed": false
   },
   "outputs": [
    {
     "name": "stdout",
     "output_type": "stream",
     "text": [
      "input a,b: '1 10'\n"
     ]
    },
    {
     "data": {
      "text/plain": [
       "[1, 3, 5, 7, 9]"
      ]
     },
     "execution_count": 22,
     "metadata": {},
     "output_type": "execute_result"
    }
   ],
   "source": [
    "a, b = input('input a,b: ').split()\n",
    "a = int(a)\n",
    "b = int(b)\n",
    "\n",
    "def get_all_odds(a,b):\n",
    "    res = []\n",
    "    for x in range(a, b + 1):\n",
    "        if x % 2 == 1:\n",
    "            res.append(x)\n",
    "    return res\n",
    "    \n",
    "get_all_odds(a,b)"
   ]
  },
  {
   "cell_type": "markdown",
   "metadata": {},
   "source": [
    "--------------------\n",
    "\n",
    "7) Даны два целых числа a и b. Необходимо посчитать сумму всех целых чисел между\n",
    "ними, включая сами a и b."
   ]
  },
  {
   "cell_type": "code",
   "execution_count": 47,
   "metadata": {
    "collapsed": false
   },
   "outputs": [
    {
     "name": "stdout",
     "output_type": "stream",
     "text": [
      "input a,b: '1 6'\n"
     ]
    },
    {
     "data": {
      "text/plain": [
       "21"
      ]
     },
     "execution_count": 47,
     "metadata": {},
     "output_type": "execute_result"
    }
   ],
   "source": [
    "a, b = input('input a,b: ').split()\n",
    "a = int(a)\n",
    "b = int(b)\n",
    "\n",
    "def get_sum_a_b(a,b):\n",
    "    res = []\n",
    "    for x in range(a, b + 1):\n",
    "        res.append(x)\n",
    "    sum_res = sum(res)\n",
    "    return sum_res\n",
    "\n",
    "def get_sum_a_b_smart(a,b):\n",
    "    sum_res = (b - a + 1) * (a + b) / 2\n",
    "    return sum_res\n",
    "    \n",
    "get_sum_a_b_smart(a,b)"
   ]
  },
  {
   "cell_type": "markdown",
   "metadata": {},
   "source": [
    "--------------------\n",
    "\n",
    "8) Напишем программу, которая выводит на экран четыре результата произведения\n",
    "двух произвольных целых чисел, заданных пользователем. После этого\n",
    "модифицируем программу так, что если пользователь хочет узнать результат\n",
    "произведения двух нулей, то программа прекращает свою работу.\n"
   ]
  },
  {
   "cell_type": "code",
   "execution_count": 29,
   "metadata": {
    "collapsed": false
   },
   "outputs": [
    {
     "name": "stdout",
     "output_type": "stream",
     "text": [
      "input a,b: '1 4'\n",
      "4\n",
      "input a,b: '2 3'\n",
      "6\n",
      "input a,b: '0 0'\n"
     ]
    }
   ],
   "source": [
    "def get_prod():\n",
    "    for i in range(4):\n",
    "        a, b = input('input a,b: ').split()\n",
    "        a = int(a)\n",
    "        b = int(b)\n",
    "        if a == 0 and b == 0:\n",
    "            break\n",
    "        else:\n",
    "            print a * b\n",
    "\n",
    "get_prod()"
   ]
  },
  {
   "cell_type": "markdown",
   "metadata": {},
   "source": [
    "--------------------\n",
    "\n",
    "9) Напишем программу, которая выводит на экран квадрат из звездочек. На стороне\n",
    "квадрата должно быть n звездочек. Число n задает пользователь."
   ]
  },
  {
   "cell_type": "code",
   "execution_count": 30,
   "metadata": {
    "collapsed": false
   },
   "outputs": [
    {
     "name": "stdout",
     "output_type": "stream",
     "text": [
      "input n: '5'\n",
      "*****\n",
      "*****\n",
      "*****\n",
      "*****\n",
      "*****\n"
     ]
    }
   ],
   "source": [
    "n = input('input n: ')\n",
    "n = int(n)\n",
    "\n",
    "def print_square(n):\n",
    "    res = '*' * n\n",
    "    for i in range(n):\n",
    "        print res\n",
    "    \n",
    "print_square(n)"
   ]
  },
  {
   "cell_type": "markdown",
   "metadata": {},
   "source": [
    "--------------------\n",
    "\n",
    "10) Напишите программу, которая из последовательности целых чисел от a до b\n",
    "включительно определяет среднее арифметическое из чисел, которые делятся на\n",
    "три без остатка."
   ]
  },
  {
   "cell_type": "code",
   "execution_count": 33,
   "metadata": {
    "collapsed": false
   },
   "outputs": [
    {
     "name": "stdout",
     "output_type": "stream",
     "text": [
      "input a,b: '3 8'\n"
     ]
    },
    {
     "data": {
      "text/plain": [
       "4.5"
      ]
     },
     "execution_count": 33,
     "metadata": {},
     "output_type": "execute_result"
    }
   ],
   "source": [
    "a, b = input('input a,b: ').split()\n",
    "a = int(a)\n",
    "b = int(b)\n",
    "        \n",
    "def get_mean3(a,b):\n",
    "    res = []\n",
    "    for x in range(a,b+1):\n",
    "        if x % 3 == 0:\n",
    "            res.append(x)\n",
    "    if len(res) == 0:\n",
    "        return 0\n",
    "    else:\n",
    "        mean = float(sum(res)) / len(res)\n",
    "        return mean\n",
    "\n",
    "get_mean3(a,b)"
   ]
  },
  {
   "cell_type": "markdown",
   "metadata": {},
   "source": [
    "--------------------\n",
    "\n",
    "11) Есть строка, которая включает в себя множество символов, в том числе и символ s.\n",
    "Необходимо написать программу, которая определяет, сколько раз в строке\n",
    "встречается символ s (не важно – строчная или прописная буква). Если этот символ\n",
    "не встречается, программы выводит на экран сообщение об этом."
   ]
  },
  {
   "cell_type": "code",
   "execution_count": 34,
   "metadata": {
    "collapsed": false
   },
   "outputs": [
    {
     "name": "stdout",
     "output_type": "stream",
     "text": [
      "input line: 'kcifonlskacsdkjlncd'\n",
      "Number of occurence: 2\n"
     ]
    }
   ],
   "source": [
    "line = input('input line: ')\n",
    "\n",
    "        \n",
    "def get_num_s(line):\n",
    "    num = line.count('s')\n",
    "    if num == 0:\n",
    "        print 'No \\'s\\' in line'\n",
    "    else:\n",
    "        print 'Number of occurence: ' + str(num)\n",
    "\n",
    "get_num_s(line)"
   ]
  },
  {
   "cell_type": "markdown",
   "metadata": {},
   "source": [
    "--------------------\n",
    "\n",
    "12) Написать программу, которая в куске англоязычного текста определяет, какая буква\n",
    "встречается чаще всего."
   ]
  },
  {
   "cell_type": "code",
   "execution_count": 35,
   "metadata": {
    "collapsed": false
   },
   "outputs": [
    {
     "name": "stdout",
     "output_type": "stream",
     "text": [
      "input line: 'whfvkbjsliedfviu23l;dewrcd3'\n"
     ]
    },
    {
     "data": {
      "text/plain": [
       "{'2': 1,\n",
       " '3': 2,\n",
       " ';': 1,\n",
       " 'b': 1,\n",
       " 'c': 1,\n",
       " 'd': 3,\n",
       " 'e': 2,\n",
       " 'f': 2,\n",
       " 'h': 1,\n",
       " 'i': 2,\n",
       " 'j': 1,\n",
       " 'k': 1,\n",
       " 'l': 2,\n",
       " 'r': 1,\n",
       " 's': 1,\n",
       " 'u': 1,\n",
       " 'v': 2,\n",
       " 'w': 2}"
      ]
     },
     "execution_count": 35,
     "metadata": {},
     "output_type": "execute_result"
    }
   ],
   "source": [
    "line = input('input line: ')\n",
    "\n",
    "        \n",
    "def get_occureces(line):\n",
    "    letterdict = {}\n",
    "    for letter in line:\n",
    "        letterdict[letter] = letterdict.get(letter, 0) + 1\n",
    "    return letterdict\n",
    "\n",
    "get_occureces(line)"
   ]
  },
  {
   "cell_type": "markdown",
   "metadata": {},
   "source": [
    "--------------------\n",
    "\n",
    "13) Задача для самостоятельного решения: написать программу, которая определяет\n",
    "является ли слова или фраза целиком палиндромом. Палиндром - слово или фраза,\n",
    "которые одинаково читаются слева направо и справа налево. Пример такой фразы\n",
    "– «was it a car or a cat I saw?»"
   ]
  },
  {
   "cell_type": "code",
   "execution_count": 38,
   "metadata": {
    "collapsed": false
   },
   "outputs": [
    {
     "name": "stdout",
     "output_type": "stream",
     "text": [
      "input line: '12321'\n",
      "The line is a palindrome\n"
     ]
    }
   ],
   "source": [
    "line = input('input line: ')\n",
    "    \n",
    "def is_palindrome(line):\n",
    "    line_reverse = line[::-1]\n",
    "    is_pal = (line == line_reverse)\n",
    "    if is_pal:\n",
    "        print \"The line is a palindrome\"\n",
    "    else:\n",
    "        print \"The line isn't a palindrome\"\n",
    "\n",
    "is_palindrome(line)"
   ]
  },
  {
   "cell_type": "markdown",
   "metadata": {},
   "source": [
    "--------------------\n",
    "\n",
    "14) Напишите программу, на вход которой подается одна строка с целыми числами\n",
    "(числа вводятся с клавиатуры через пробел). Программа должна вывести сумму\n",
    "этих чисел."
   ]
  },
  {
   "cell_type": "code",
   "execution_count": 40,
   "metadata": {
    "collapsed": false
   },
   "outputs": [
    {
     "name": "stdout",
     "output_type": "stream",
     "text": [
      "input line: '1 2 3 4 5 6'\n"
     ]
    },
    {
     "data": {
      "text/plain": [
       "21"
      ]
     },
     "execution_count": 40,
     "metadata": {},
     "output_type": "execute_result"
    }
   ],
   "source": [
    "line = input('input line: ').split()\n",
    "  \n",
    "def get_sum(line):\n",
    "    int_list = [int(x) for x in line]\n",
    "    sum_elements = sum(int_list)\n",
    "    return sum_elements\n",
    "    \n",
    "get_sum(line)"
   ]
  },
  {
   "cell_type": "markdown",
   "metadata": {},
   "source": [
    "--------------------\n",
    "\n",
    "15) Напишите программу, на вход которой подаётся список чисел одной строкой.\n",
    "Программа должна для каждого элемента этого списка вывести сумму двух его\n",
    "соседей. Для элементов списка, являющихся крайними, одним из соседей считается\n",
    "элемент, находящий на противоположном конце этого списка. Например, если на\n",
    "вход подаётся список \"1 3 5 6 10\", то на выход ожидается список \"13 6 9 15 7\" (без\n",
    "кавычек). Если на вход пришло только одно число, надо вывести его же. Вывод\n",
    "должен содержать одну строку с числами нового списка, разделёнными пробелом."
   ]
  },
  {
   "cell_type": "code",
   "execution_count": 63,
   "metadata": {
    "collapsed": false
   },
   "outputs": [
    {
     "name": "stdout",
     "output_type": "stream",
     "text": [
      "input line: '4'\n"
     ]
    },
    {
     "data": {
      "text/plain": [
       "[4]"
      ]
     },
     "execution_count": 63,
     "metadata": {},
     "output_type": "execute_result"
    }
   ],
   "source": [
    "line = input('input line: ').split()\n",
    "  \n",
    "def get_neighbours_sum(line):\n",
    "    int_list = [int(x) for x in line]\n",
    "    if len(int_list) == 1:\n",
    "        return int_list\n",
    "    res = []\n",
    "    for i in range(len(int_list)):\n",
    "        if i == 0:\n",
    "            left_neighbour_ind = -1\n",
    "        else:\n",
    "            left_neighbour_ind = i - 1\n",
    "        if i == len(int_list) - 1:\n",
    "            right_neighbour_ind = 0\n",
    "        else:\n",
    "            right_neighbour_ind = i + 1\n",
    "        neighbours_sum = int_list[left_neighbour_ind] + int_list[right_neighbour_ind]\n",
    "        res.append(neighbours_sum)\n",
    "    return res\n",
    "    \n",
    "get_neighbours_sum(line)"
   ]
  },
  {
   "cell_type": "markdown",
   "metadata": {},
   "source": [
    "---------------\n",
    "\n",
    "##  Задачи посложнее\n",
    "\n",
    "1) Необходимо написать программу, которая предлагает задать две произвольные\n",
    "последовательность натуральных чисел (от одного до десяти) и выводит на экран\n",
    "известную таблицу умножения.\n",
    "Пример результата работы программы показан ниже ( \\t – знак табуляции):"
   ]
  },
  {
   "cell_type": "code",
   "execution_count": 48,
   "metadata": {
    "collapsed": false
   },
   "outputs": [
    {
     "name": "stdout",
     "output_type": "stream",
     "text": [
      "Input a<=b, c <= d:\n",
      "input a: '1'\n",
      "input b: '3'\n",
      "input c: '1'\n",
      "input d: '7'\n",
      " \t1\t2\t3\t4\t5\t6\t7\t\n",
      "1\t1\t2\t3\t4\t5\t6\t7\t\n",
      "2\t2\t4\t6\t8\t10\t12\t14\t\n",
      "3\t3\t6\t9\t12\t15\t18\t21\t\n",
      "\n"
     ]
    }
   ],
   "source": [
    "print \"Input a<=b, c <= d:\"\n",
    "a = int(input('input a: '))\n",
    "b = int(input('input b: '))\n",
    "c = int(input('input c: '))\n",
    "d = int(input('input d: '))\n",
    "  \n",
    "def print_prods(a, b, c, d):\n",
    "    s = ' \\t'\n",
    "    for y in range(c, d+1):\n",
    "        s += str(y) + '\\t'\n",
    "    s += '\\n'\n",
    "    for x in range(a, b+1):\n",
    "        s += str(x) + '\\t'\n",
    "        for y in range(c, d+1):\n",
    "            s += str(x*y) + '\\t'\n",
    "        s += '\\n'\n",
    "    print s\n",
    "    \n",
    "print_prods(a,b,c,d)"
   ]
  },
  {
   "cell_type": "code",
   "execution_count": null,
   "metadata": {
    "collapsed": true
   },
   "outputs": [],
   "source": []
  },
  {
   "cell_type": "code",
   "execution_count": null,
   "metadata": {
    "collapsed": true
   },
   "outputs": [],
   "source": []
  },
  {
   "cell_type": "markdown",
   "metadata": {},
   "source": [
    "------------------------\n",
    "\n",
    "3) Update dictionary"
   ]
  },
  {
   "cell_type": "code",
   "execution_count": 52,
   "metadata": {
    "collapsed": false
   },
   "outputs": [
    {
     "name": "stdout",
     "output_type": "stream",
     "text": [
      "None\n",
      "{2: [-1]}\n",
      "None\n",
      "{2: [-1, -2]}\n",
      "None\n",
      "{2: [-1, -2, -3]}\n"
     ]
    }
   ],
   "source": [
    "def update_dictionary(d, key, value):\n",
    "    if key in d.keys():\n",
    "        d[key].append(value)\n",
    "    elif 2 * key in d.keys():\n",
    "        d[2 * key].append(value)\n",
    "    else:\n",
    "        d[2 * key] = [value]\n",
    "        \n",
    "d = {}\n",
    "print update_dictionary(d, 1, -1)\n",
    "print d\n",
    "print update_dictionary(d, 2, -2)\n",
    "print d\n",
    "print update_dictionary(d, 1, -3)\n",
    "print d"
   ]
  },
  {
   "cell_type": "markdown",
   "metadata": {},
   "source": [
    "-----------------------\n",
    "4) Вычисление f(x)"
   ]
  },
  {
   "cell_type": "code",
   "execution_count": 53,
   "metadata": {
    "collapsed": false
   },
   "outputs": [
    {
     "name": "stdout",
     "output_type": "stream",
     "text": [
      "input n: '3'\n",
      "input x: '12'\n",
      "13\n",
      "input x: '14'\n",
      "15\n",
      "input x: '12'\n",
      "13\n"
     ]
    }
   ],
   "source": [
    "def calc_f(f, x, d):\n",
    "    if x in d.keys():\n",
    "        print d[x]\n",
    "    else:\n",
    "        y = f(x)\n",
    "        d[x] = y\n",
    "        print y\n",
    "        \n",
    "def f(x):\n",
    "    return x + 1\n",
    "        \n",
    "d = {}\n",
    "n = int(input('input n: '))\n",
    "for i in range(n):\n",
    "    x = int(input('input x: '))\n",
    "    calc_f(f, x, d)"
   ]
  },
  {
   "cell_type": "code",
   "execution_count": 61,
   "metadata": {
    "collapsed": false
   },
   "outputs": [
    {
     "name": "stdout",
     "output_type": "stream",
     "text": [
      "input n: '5'\n",
      "0 0\n",
      "1 0\n",
      "2 0\n",
      "3 0\n",
      "4 1\n",
      "4 2\n",
      "4 3\n"
     ]
    },
    {
     "ename": "IndexError",
     "evalue": "list index out of range",
     "output_type": "error",
     "traceback": [
      "\u001b[1;31m---------------------------------------------------------------------------\u001b[0m",
      "\u001b[1;31mIndexError\u001b[0m                                Traceback (most recent call last)",
      "\u001b[1;32m<ipython-input-61-2677cf17c8b8>\u001b[0m in \u001b[0;36m<module>\u001b[1;34m()\u001b[0m\n\u001b[0;32m     21\u001b[0m         \u001b[1;32mprint\u001b[0m \u001b[1;34m'\\t'\u001b[0m\u001b[1;33m.\u001b[0m\u001b[0mjoin\u001b[0m\u001b[1;33m(\u001b[0m\u001b[1;33m[\u001b[0m\u001b[0mstr\u001b[0m\u001b[1;33m(\u001b[0m\u001b[0mx\u001b[0m\u001b[1;33m)\u001b[0m \u001b[1;32mfor\u001b[0m \u001b[0mx\u001b[0m \u001b[1;32min\u001b[0m \u001b[0mres\u001b[0m\u001b[1;33m[\u001b[0m\u001b[0mi\u001b[0m\u001b[1;33m]\u001b[0m\u001b[1;33m]\u001b[0m\u001b[1;33m)\u001b[0m\u001b[1;33m\u001b[0m\u001b[0m\n\u001b[0;32m     22\u001b[0m \u001b[1;33m\u001b[0m\u001b[0m\n\u001b[1;32m---> 23\u001b[1;33m \u001b[0mprint_spiral\u001b[0m\u001b[1;33m(\u001b[0m\u001b[0mn\u001b[0m\u001b[1;33m)\u001b[0m\u001b[1;33m\u001b[0m\u001b[0m\n\u001b[0m",
      "\u001b[1;32m<ipython-input-61-2677cf17c8b8>\u001b[0m in \u001b[0;36mprint_spiral\u001b[1;34m(n)\u001b[0m\n\u001b[0;32m      8\u001b[0m     \u001b[0mj\u001b[0m \u001b[1;33m=\u001b[0m \u001b[1;36m0\u001b[0m\u001b[1;33m\u001b[0m\u001b[0m\n\u001b[0;32m      9\u001b[0m     \u001b[1;32mfor\u001b[0m \u001b[0mk\u001b[0m \u001b[1;32min\u001b[0m \u001b[0mrange\u001b[0m\u001b[1;33m(\u001b[0m\u001b[0mn\u001b[0m \u001b[1;33m*\u001b[0m \u001b[0mn\u001b[0m\u001b[1;33m)\u001b[0m\u001b[1;33m:\u001b[0m\u001b[1;33m\u001b[0m\u001b[0m\n\u001b[1;32m---> 10\u001b[1;33m         \u001b[0mres\u001b[0m\u001b[1;33m[\u001b[0m\u001b[0mi\u001b[0m\u001b[1;33m]\u001b[0m\u001b[1;33m[\u001b[0m\u001b[0mj\u001b[0m\u001b[1;33m]\u001b[0m \u001b[1;33m=\u001b[0m \u001b[0mk\u001b[0m\u001b[1;33m\u001b[0m\u001b[0m\n\u001b[0m\u001b[0;32m     11\u001b[0m         \u001b[1;32mif\u001b[0m \u001b[1;36m0\u001b[0m \u001b[1;33m<=\u001b[0m \u001b[0mi\u001b[0m \u001b[1;33m+\u001b[0m \u001b[0mdirection_i\u001b[0m \u001b[1;33m<\u001b[0m \u001b[0mn\u001b[0m \u001b[1;32mand\u001b[0m \u001b[1;36m0\u001b[0m \u001b[1;33m<=\u001b[0m \u001b[0mj\u001b[0m \u001b[1;33m+\u001b[0m \u001b[0mdirection_j\u001b[0m \u001b[1;33m<\u001b[0m \u001b[0mn\u001b[0m \u001b[1;32mand\u001b[0m \u001b[0mres\u001b[0m\u001b[1;33m[\u001b[0m\u001b[0mi\u001b[0m \u001b[1;33m+\u001b[0m \u001b[0mdirection_i\u001b[0m\u001b[1;33m]\u001b[0m\u001b[1;33m[\u001b[0m\u001b[0mj\u001b[0m\u001b[1;33m+\u001b[0m\u001b[0mdirection_j\u001b[0m\u001b[1;33m]\u001b[0m \u001b[1;33m==\u001b[0m \u001b[1;36m0\u001b[0m\u001b[1;33m:\u001b[0m\u001b[1;33m\u001b[0m\u001b[0m\n\u001b[0;32m     12\u001b[0m             \u001b[1;32mprint\u001b[0m \u001b[0mi\u001b[0m\u001b[1;33m,\u001b[0m\u001b[0mj\u001b[0m\u001b[1;33m\u001b[0m\u001b[0m\n",
      "\u001b[1;31mIndexError\u001b[0m: list index out of range"
     ]
    }
   ],
   "source": [
    "n = int(input('input n: '))\n",
    "\n",
    "def print_spiral(n):\n",
    "    direction_i = 1\n",
    "    direction_j = 0\n",
    "    res = [[0 for i in range(n)] for j in range(n)]\n",
    "    i = 0\n",
    "    j = 0\n",
    "    for k in range(n * n):\n",
    "        res[i][j] = k\n",
    "        if 0 <= i + direction_i < n and 0 <= j + direction_j < n and res[i + direction_i][j+direction_j] == 0:\n",
    "            print i,j\n",
    "            i = i + direction_i\n",
    "            j = j + direction_j\n",
    "        else:\n",
    "            direction_i = (direction_i - 1) % 2\n",
    "            direction_j = (direction_j + 1) % 2\n",
    "            i = i + direction_i\n",
    "            j = j + direction_j\n",
    "    for i in range(n):\n",
    "        print '\\t'.join([str(x) for x in res[i]])\n",
    "        \n",
    "print_spiral(n)"
   ]
  },
  {
   "cell_type": "code",
   "execution_count": null,
   "metadata": {
    "collapsed": true
   },
   "outputs": [],
   "source": []
  },
  {
   "cell_type": "code",
   "execution_count": null,
   "metadata": {
    "collapsed": true
   },
   "outputs": [],
   "source": []
  },
  {
   "cell_type": "code",
   "execution_count": null,
   "metadata": {
    "collapsed": true
   },
   "outputs": [],
   "source": []
  }
 ],
 "metadata": {
  "kernelspec": {
   "display_name": "Python 2",
   "language": "python",
   "name": "python2"
  },
  "language_info": {
   "codemirror_mode": {
    "name": "ipython",
    "version": 2
   },
   "file_extension": ".py",
   "mimetype": "text/x-python",
   "name": "python",
   "nbconvert_exporter": "python",
   "pygments_lexer": "ipython2",
   "version": "2.7.6"
  }
 },
 "nbformat": 4,
 "nbformat_minor": 0
}
